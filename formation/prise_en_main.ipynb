{
 "cells": [
  {
   "cell_type": "markdown",
   "metadata": {},
   "source": [
    "# Prise en main"
   ]
  },
  {
   "cell_type": "markdown",
   "metadata": {},
   "source": [
    "Bienvenue dans votre premier notebook (ou pas ) !"
   ]
  },
  {
   "cell_type": "markdown",
   "metadata": {},
   "source": [
    "Comme vous voyez, il a du texte mais aussi des images:"
   ]
  },
  {
   "cell_type": "markdown",
   "metadata": {},
   "source": [
    "![Image of Python](https://www.python.org/static/community_logos/python-logo-master-v3-TM.png)"
   ]
  },
  {
   "cell_type": "markdown",
   "metadata": {},
   "source": [
    "![Image of MPython](https://media.giphy.com/media/GroYi4hkiUuPe/giphy.gif)"
   ]
  },
  {
   "cell_type": "markdown",
   "metadata": {},
   "source": [
    "Mais il y aussi du code: "
   ]
  },
  {
   "cell_type": "code",
   "execution_count": null,
   "metadata": {},
   "outputs": [],
   "source": [
    "#Il faut me cliquer dessus pour me sélectionner puis appuyer le bouton run pour m'exécuter \n",
    "for i in range(3):\n",
    "    print(u\"\\U0001F984\")"
   ]
  },
  {
   "cell_type": "markdown",
   "metadata": {},
   "source": [
    "(Oui, Python supporte l'unicode...)"
   ]
  },
  {
   "cell_type": "code",
   "execution_count": null,
   "metadata": {},
   "outputs": [],
   "source": [
    "# Et moi ?!?\n",
    "2+2"
   ]
  },
  {
   "cell_type": "markdown",
   "metadata": {},
   "source": [
    "## Manipulation du notebook\n",
    "\n",
    "Le notebook est constitué d'une succession de cellules. Les cellules peuvent être dans le mode commande ou le mode édition. Un liseré de couleur repère la cellule actuellement selectionnée. Le liseré est bleu si la cellule est en mode commande et vert si elle est en mode édition.\n",
    "\n",
    "En pratique, utiliser la souris pour naviguer et exécuter du code peut vite être pénible, et il est préférable \n",
    "d'utiliser des raccourcis claviers."
   ]
  },
  {
   "cell_type": "markdown",
   "metadata": {},
   "source": [
    "### Le mode édition\n",
    "\n",
    "On entre dans le mode édition de la cellule sélectionnée en appuyant sur la touche [Enter] ou en cliquant sur l'intérieur de la cellule.\n",
    "Quand une cellule est en édition vous pouvez saisir du texte comme dans un éditeur classique."
   ]
  },
  {
   "cell_type": "markdown",
   "metadata": {},
   "source": [
    "Essayez d'éditer cette cellule: \n",
    "- Il est possible d'écrire en Markdown \n",
    "- Mais aussi <strong> en HTML </strong>\n",
    "- Et pour les maths, il a même du $\\LaTeX$: $e^{i\\pi} + 1 = 0$\n",
    "\n",
    "(Appuez sur Run pour quitter le mode édition.)"
   ]
  },
  {
   "cell_type": "markdown",
   "metadata": {},
   "source": [
    "#### Les raccourcis clavier\n",
    "\n",
    "- [Ctrl-Enter] : Exécute la cellule.\n",
    "- [Shift-Enter] : Exécute la cellule et sélectionne la cellule suivante. L'appui répété de cette touche permet ainsi d'exécuter pas à pas toutes les cellules du notebook.\n",
    "- [Alt-Enter] : Exécute la cellule et insére une nouvelle cellule juste en dessous.\n",
    "- [Ctrl-Z] : Annule les dernières saisies de texte.\n",
    "- [ESC] : Passe dans le mode commande. (En théorie ?)"
   ]
  },
  {
   "cell_type": "markdown",
   "metadata": {},
   "source": [
    "### Le mode commande \n",
    "\n",
    "Vous pouvez en mode commande ajouter ou supprimer des cellules mais vous ne pouvez pas saisir de texte dans une cellule. Attention dans ce mode, certaines touches sont associées à des actions sur le notebook. \n"
   ]
  },
  {
   "cell_type": "markdown",
   "metadata": {},
   "source": [
    "#### Les raccourcis clavier\n",
    "\n",
    "- [dd] Pour supprimer une cellule\n",
    "- [ii] Pour interrompre l'exécution du code\n",
    "- [m] Pour passer en markdown/texte\n",
    "- [y] Pour passer en code\n",
    "- [Haut] Pour aller à la cellule précédente\n",
    "- [Bas] Pour aller à la suivante\n"
   ]
  },
  {
   "cell_type": "markdown",
   "metadata": {},
   "source": [
    "#### Tout les raccourcis \n",
    "\n",
    "La touche [h] permet d'obtenir tout les raccourcis claviers."
   ]
  },
  {
   "cell_type": "markdown",
   "metadata": {},
   "source": [
    "## Un mot sur le markdown \n",
    "\n",
    "Le markdown est un langage de balisage, un peu comme $\\LaTeX$, mais en beaucoup beaucoup plus simple.\n",
    "\n",
    "[La syntaxe, en bref](https://guides.github.com/pdfs/markdown-cheatsheet-online.pdf)\n",
    "\n",
    "La variante de markdown utilisée est celle de Github. (si votre religion vous empêche d'utiliser cette variante, il est _a_ _priori_ possible de configurer le markdown utilisé)"
   ]
  },
  {
   "cell_type": "markdown",
   "metadata": {},
   "source": [
    "## L'interpréteur \n",
    "\n"
   ]
  },
  {
   "cell_type": "code",
   "execution_count": null,
   "metadata": {},
   "outputs": [],
   "source": [
    "a = 1"
   ]
  },
  {
   "cell_type": "markdown",
   "metadata": {},
   "source": [
    "Les cellules \"communiquent\" entre elles "
   ]
  },
  {
   "cell_type": "code",
   "execution_count": null,
   "metadata": {},
   "outputs": [],
   "source": [
    "a = a + 1\n",
    "print(a)"
   ]
  },
  {
   "cell_type": "markdown",
   "metadata": {},
   "source": [
    "Exécuter la cellule ci-dessus plusieurs fois. "
   ]
  },
  {
   "cell_type": "code",
   "execution_count": null,
   "metadata": {},
   "outputs": [],
   "source": [
    "while True:\n",
    "    pass\n",
    "#Pour interromptre une cellule, il y a le bouton stop, ou ii"
   ]
  },
  {
   "cell_type": "markdown",
   "metadata": {},
   "source": [
    "Lorsque vous ouvrez un notebook vous le visualisez tel qu'il a été sauvegardé. Il reste en particulier les résultats des séquences de code qui ont été exécutées. Cependant, à l'ouverture du notebook, un nouvel interpréteur est lancé, il faut à nouveau exécuter les cellules.\n",
    "\n",
    "Pour ne pas garder les résultats (on veut que les élèves exécutent le code pour obtenir les résultats) dans le menu en haut: Cell > All Output > Clear ou Kernel > Restart & Clear Output"
   ]
  },
  {
   "cell_type": "markdown",
   "metadata": {},
   "source": [
    "## Utiliser Matplotlib"
   ]
  },
  {
   "cell_type": "code",
   "execution_count": null,
   "metadata": {},
   "outputs": [],
   "source": [
    "import numpy as np\n",
    "import matplotlib.pyplot as plt\n",
    "\n",
    "X = np.linspace(-1, 1, 100)\n",
    "plt.plot(X, X ** 2)\n",
    "#Que s'est-il passé ?"
   ]
  },
  {
   "cell_type": "code",
   "execution_count": null,
   "metadata": {},
   "outputs": [],
   "source": [
    "%pylab inline"
   ]
  },
  {
   "cell_type": "code",
   "execution_count": null,
   "metadata": {},
   "outputs": [],
   "source": [
    "import numpy as np\n",
    "import matplotlib.pyplot as plt\n",
    "\n",
    "X = np.linspace(-1, 1, 100)\n",
    "plt.plot(X, X ** 2)\n",
    "#Que se passe-t-il maintenant ?"
   ]
  },
  {
   "cell_type": "markdown",
   "metadata": {},
   "source": [
    "## Les commandes magiques"
   ]
  },
  {
   "cell_type": "code",
   "execution_count": null,
   "metadata": {},
   "outputs": [],
   "source": [
    "%lsmagic"
   ]
  },
  {
   "cell_type": "markdown",
   "metadata": {},
   "source": [
    "- %clear est une autre façon de supprimer les résultats\n",
    "- %save est clair\n",
    "- etc"
   ]
  },
  {
   "cell_type": "code",
   "execution_count": null,
   "metadata": {},
   "outputs": [],
   "source": [
    "%%writefile hello.py\n",
    "print(\"hello\")"
   ]
  },
  {
   "cell_type": "code",
   "execution_count": null,
   "metadata": {},
   "outputs": [],
   "source": [
    "%less hello.py"
   ]
  },
  {
   "cell_type": "code",
   "execution_count": null,
   "metadata": {},
   "outputs": [],
   "source": [
    "%run hello.py"
   ]
  },
  {
   "cell_type": "markdown",
   "metadata": {},
   "source": [
    "## Commandes systèmes \n",
    "\n",
    "Lorsque le texte de la cellule débute par un ! alors IPython en déduit que le reste du texte n'est pas du code python mais une commande système qui doit être exécutée par le Shell.\n",
    "\n",
    "Vous pouvez testez ci-dessous. (si vous ne savez pas ce que fait ls, ce paragraphe ne vous est _a_ _priori_ pas utile)"
   ]
  },
  {
   "cell_type": "code",
   "execution_count": null,
   "metadata": {},
   "outputs": [],
   "source": [
    "!ls "
   ]
  },
  {
   "cell_type": "markdown",
   "metadata": {},
   "source": [
    "## Exporter \n",
    "\n",
    "Une fois que vous avez fini la rédaction de votre document, vous pouvez l'exporter avec: \n",
    "File > Download as et le format de votre choix (Notebook _a_ _priori_)"
   ]
  },
  {
   "cell_type": "code",
   "execution_count": null,
   "metadata": {},
   "outputs": [],
   "source": [
    "from IPython.display import HTML, Javascript\n",
    "HTML(\"\"\"<iframe scrolling=\"no\" src=\"https://www.geogebra.org/classic/\" width=\"1000px\" height=\"700px\" style=\"border:2px;\"></iframe>\"\"\")"
   ]
  },
  {
   "cell_type": "markdown",
   "metadata": {},
   "source": [
    "## Des exemples de notebooks\n",
    "\n",
    "- [Un tutoriel Matplotlib](http://nbviewer.jupyter.org/github/jrjohansson/scientific-python-lectures/blob/master/Lecture-4-Matplotlib.ipynb) qui est un exemple de notebook de qualité\n",
    "- [Une compilation d'activité Python/maths](https://tribu.phm.education.gouv.fr/portal/pagemarker/36/cms/default-domain/workspaces/activites-python-lycee) Aller dans \"plan de l'espace\" pour trouver des notebooks (il n'y a pas que des notebooks..)\n",
    "- [Des cours d'I.S.N](http://megamaths.free.fr/spip/spip.php?article72) à titre d'exemple\n"
   ]
  }
 ],
 "metadata": {
  "kernelspec": {
   "display_name": "Python 3",
   "language": "python",
   "name": "python3"
  },
  "language_info": {
   "codemirror_mode": {
    "name": "ipython",
    "version": 3
   },
   "file_extension": ".py",
   "mimetype": "text/x-python",
   "name": "python",
   "nbconvert_exporter": "python",
   "pygments_lexer": "ipython3",
   "version": "3.6.4"
  }
 },
 "nbformat": 4,
 "nbformat_minor": 2
}
